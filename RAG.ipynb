{
 "cells": [
  {
   "cell_type": "code",
   "execution_count": 1,
   "id": "fe266eb2-9c8e-4e04-9991-fa74bab70f8b",
   "metadata": {},
   "outputs": [
    {
     "ename": "RuntimeError",
     "evalue": "Kunde inte hitta miljövariabeln API_KEY. Kontrollera att .env-filen existerar och att den innehåller API_KEY.",
     "output_type": "error",
     "traceback": [
      "\u001b[1;31m---------------------------------------------------------------------------\u001b[0m",
      "\u001b[1;31mRuntimeError\u001b[0m                              Traceback (most recent call last)",
      "Cell \u001b[1;32mIn[1], line 11\u001b[0m\n\u001b[0;32m      9\u001b[0m api_key \u001b[38;5;241m=\u001b[39m os\u001b[38;5;241m.\u001b[39mgetenv(\u001b[38;5;124m\"\u001b[39m\u001b[38;5;124mAPI_KEY\u001b[39m\u001b[38;5;124m\"\u001b[39m)\n\u001b[0;32m     10\u001b[0m \u001b[38;5;28;01mif\u001b[39;00m api_key \u001b[38;5;129;01mis\u001b[39;00m \u001b[38;5;28;01mNone\u001b[39;00m:\n\u001b[1;32m---> 11\u001b[0m     \u001b[38;5;28;01mraise\u001b[39;00m \u001b[38;5;167;01mRuntimeError\u001b[39;00m(\u001b[38;5;124m\"\u001b[39m\u001b[38;5;124mKunde inte hitta miljövariabeln API_KEY. Kontrollera att .env-filen existerar och att den innehåller API_KEY.\u001b[39m\u001b[38;5;124m\"\u001b[39m)\n\u001b[0;32m     13\u001b[0m \u001b[38;5;66;03m# Skapa klienten med rätt nyckel\u001b[39;00m\n\u001b[0;32m     14\u001b[0m client \u001b[38;5;241m=\u001b[39m genai\u001b[38;5;241m.\u001b[39mClient(api_key\u001b[38;5;241m=\u001b[39mapi_key)\n",
      "\u001b[1;31mRuntimeError\u001b[0m: Kunde inte hitta miljövariabeln API_KEY. Kontrollera att .env-filen existerar och att den innehåller API_KEY."
     ]
    }
   ],
   "source": [
    "import os\n",
    "from dotenv import load_dotenv\n",
    "from google import genai\n",
    "\n",
    "# Ladda in alla variabler från .env-filen\n",
    "load_dotenv()  # Läser automatiskt .env i nuvarande arbetskatalog (eller angiven sökväg)\n",
    "\n",
    "# Hämta API-nyckeln\n",
    "api_key = os.getenv(\"API_KEY\")\n",
    "if api_key is None:\n",
    "    raise RuntimeError(\"Kunde inte hitta miljövariabeln API_KEY. Kontrollera att .env-filen existerar och att den innehåller API_KEY.\")\n",
    "\n",
    "# Skapa klienten med rätt nyckel\n",
    "client = genai.Client(api_key=api_key)\n",
    "\n",
    "# Nu kan du använda client för att anropa GenAI-tjänster\n",
    "print(\"Klienten är initierad:\", client)"
   ]
  },
  {
   "cell_type": "code",
   "execution_count": null,
   "id": "f66e6216-9d29-4105-a468-8238fa0a8652",
   "metadata": {},
   "outputs": [],
   "source": []
  }
 ],
 "metadata": {
  "kernelspec": {
   "display_name": "Python 3 (ipykernel)",
   "language": "python",
   "name": "python3"
  },
  "language_info": {
   "codemirror_mode": {
    "name": "ipython",
    "version": 3
   },
   "file_extension": ".py",
   "mimetype": "text/x-python",
   "name": "python",
   "nbconvert_exporter": "python",
   "pygments_lexer": "ipython3",
   "version": "3.12.4"
  }
 },
 "nbformat": 4,
 "nbformat_minor": 5
}
